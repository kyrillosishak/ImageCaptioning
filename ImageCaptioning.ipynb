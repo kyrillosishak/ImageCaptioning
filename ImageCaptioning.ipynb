{
  "cells": [
    {
      "cell_type": "markdown",
      "metadata": {
        "id": "view-in-github",
        "colab_type": "text"
      },
      "source": [
        "<a href=\"https://colab.research.google.com/github/kyrillosishak/ImageCaptioning/blob/main/ImageCaptioning.ipynb\" target=\"_parent\"><img src=\"https://colab.research.google.com/assets/colab-badge.svg\" alt=\"Open In Colab\"/></a>"
      ]
    },
    {
      "cell_type": "markdown",
      "metadata": {
        "id": "tFBHl1sdxgfS"
      },
      "source": [
        "# Reproducing \"Show and Tell: A Neural Image Caption Generator\"\n",
        "\n",
        "https://www.cv-foundation.org/openaccess/content_cvpr_2015/papers/Vinyals_Show_and_Tell_2015_CVPR_paper.pdf\n",
        "\n",
        "We are implementing the paper \"Show and Tell: A Neural Image Caption Generator\" to solve the problem of image caption generation. The paper presents a generative model based on a deep recurrent architecture that combines recent advances in computer vision and machine translation to generate natural sentences describing an image. The model is trained to maximize the likelihood of the target description sentence given the training image. The paper demonstrates the accuracy of the model and the fluency of the language it learns solely from image descriptions. <br> <br> <br>\n",
        "\n",
        "In this notebook, we will reproduce the paper's results by implementing the generative model described in the paper. We will follow the steps outlined in the paper, including data collection, preprocessing, model architecture, training, evaluation, fine-tuning, and testing. However, for the purpose of this notebook, we will focus specifically on testing the model on the Flickr30k dataset as an application of the image caption generator.\n",
        "\n",
        "The notebook will be organized as follows:<br><br>\n",
        "\n",
        "## **1- Introduction**\n",
        "\n",
        "\n",
        "\n",
        "\n",
        "---\n",
        "\n",
        "\n",
        "This section provides an overview of the paper and the notebook, explaining our goal of solving the image caption generation problem.<br><br>\n",
        "\n",
        "## **2- Preprocessing**\n",
        "\n",
        "---\n",
        "\n",
        "We will preprocess the images and captions from the Flickr30k dataset to prepare them for training.<br><br>\n",
        "\n",
        "\n",
        "## **3- Dataset**\n",
        "\n",
        "---\n",
        "\n",
        "We will Constructing pytorch Dataset<br><br>\n",
        "\n",
        "\n",
        "## **4- Model Architecture**\n",
        "\n",
        "---\n",
        "\n",
        "\n",
        "We will implement the neural network architecture described in the paper, which includes a combination of convolutional neural networks (CNNs) for image feature extraction and recurrent neural networks (RNNs) for generating captions.<br><br>\n",
        "\n",
        "## **5- Training**\n",
        "\n",
        "---\n",
        "\n",
        "\n",
        "We will train the model using the preprocessed data from the Flickr30k dataset.<br><br>\n",
        "\n",
        "## **6- Evaluation**\n",
        "\n",
        "---\n",
        "\n",
        "\n",
        "We will evaluate the performance of the model by comparing the generated captions with the ground truth captions from the Flickr30k dataset.<br><br>\n",
        "\n",
        "## **7- Fine-tuning**\n",
        "\n",
        "---\n",
        "\n",
        "\n",
        "We will fine-tune the model by adjusting hyperparameters and experimenting with different techniques to improve the quality of the generated captions specifically for the Flickr30k dataset.<br><br>\n",
        "\n",
        "## **8- Testing**\n",
        "\n",
        "---\n",
        "\n",
        "We will test the trained model on new images from the Flickr30k dataset to generate captions and assess its performance.\n",
        "\n",
        "By focusing on the Flickr30k dataset as an application of the image caption generator, we aim to reproduce the paper's results and gain a deeper understanding of the model and its performance on this specific dataset."
      ]
    },
    {
      "cell_type": "code",
      "source": [
        "import torch\n",
        "import torchvision.models\n",
        "import torch.optim as optim\n",
        "import torchvision.transforms as transforms\n",
        "from PIL import Image\n",
        "\n",
        "device = torch.device(\"cuda\" if torch.cuda.is_available() else \"cpu\")\n",
        "\n",
        "def save_checkpoint(state, filename=\"saved_checkpoint.pt\"):\n",
        "    print(\"=> Saving checkpoint\")\n",
        "    torch.save(state, filename)\n",
        "\n",
        "def load_checkpoint(checkpoint, model, optimizer):\n",
        "    print(\"=> Loading checkpoint\")\n",
        "    model.load_state_dict(checkpoint[\"state_dict\"])\n",
        "    optimizer.load_state_dict(checkpoint[\"optimizer\"])\n",
        "    step = checkpoint[\"step\"]\n",
        "    return step\n",
        "\n",
        "def save_train_dataloader(state, filename=\"saved_train_dataloader.pt\"):\n",
        "    print(\"=> Saving Train Dataloader\")\n",
        "    torch.save(state, filename)\n",
        "\n",
        "def save_test_dataloader(state, filename=\"saved_test_dataloader.pt\"):\n",
        "    print(\"=> Saving Test Dataloader\")\n",
        "    torch.save(state, filename)\n",
        "\n",
        "def save_train_dataset(state, filename=\"saved_train_dataset.pt\"):\n",
        "    print(\"=> Saving Train Dataset\")\n",
        "    torch.save(state, filename)\n",
        "\n",
        "def save_test_dataset(state, filename=\"saved_test_dataset.pt\"):\n",
        "    print(\"=> Saving Test Dataset\")\n",
        "    torch.save(state, filename)"
      ],
      "metadata": {
        "id": "6ObO6tQC0aHx"
      },
      "execution_count": null,
      "outputs": []
    },
    {
      "cell_type": "markdown",
      "metadata": {
        "id": "7NzNibUyPw2m"
      },
      "source": [
        "## Imports"
      ]
    },
    {
      "cell_type": "code",
      "execution_count": null,
      "metadata": {
        "id": "8zAOvw1zPzuy"
      },
      "outputs": [],
      "source": [
        "import os  # when loading file paths\n",
        "import pandas as pd  # for lookup in annotation file\n",
        "import spacy  # for tokenizer\n",
        "import torch\n",
        "from torch.nn.utils.rnn import pad_sequence  # pad batch\n",
        "from torch.utils.data import DataLoader, Dataset\n",
        "from PIL import Image  # Load img\n",
        "import torchvision.transforms as transforms\n",
        "from sklearn.model_selection import train_test_split\n",
        "# This is the version for the english language\n",
        "spacy_eng = spacy.load(\"en_core_web_sm\")"
      ]
    },
    {
      "cell_type": "markdown",
      "metadata": {
        "id": "wo8qXaoGPIWc"
      },
      "source": [
        "# Downloading and unzipping the data file\n"
      ]
    },
    {
      "cell_type": "code",
      "execution_count": null,
      "metadata": {
        "colab": {
          "base_uri": "https://localhost:8080/"
        },
        "id": "oyz05ZKfih9Y",
        "outputId": "57f99b59-5ef2-40b1-c3fc-310bf69e2777"
      },
      "outputs": [
        {
          "output_type": "stream",
          "name": "stdout",
          "text": [
            "Downloading...\n",
            "From: https://drive.google.com/uc?id=1aucr_u_8sKcfuDNhFbB6IzbpOsInHd9d\n",
            "To: /content/kaggle.json\n",
            "\r  0% 0.00/69.0 [00:00<?, ?B/s]\r100% 69.0/69.0 [00:00<00:00, 387kB/s]\n"
          ]
        }
      ],
      "source": [
        "! gdown 1aucr_u_8sKcfuDNhFbB6IzbpOsInHd9d\n",
        "! mkdir ~/.kaggle\n",
        "! cp kaggle.json ~/.kaggle/\n",
        "! chmod 600 ~/.kaggle/kaggle.json"
      ]
    },
    {
      "cell_type": "code",
      "execution_count": null,
      "metadata": {
        "colab": {
          "base_uri": "https://localhost:8080/"
        },
        "id": "TlarPeo0NXuW",
        "outputId": "99e35d3d-0e63-4f04-93dc-caf25eed93db"
      },
      "outputs": [
        {
          "output_type": "stream",
          "name": "stdout",
          "text": [
            "Downloading flickr8k.zip to /content\n",
            "100% 1.04G/1.04G [00:50<00:00, 23.5MB/s]\n",
            "100% 1.04G/1.04G [00:50<00:00, 21.9MB/s]\n"
          ]
        }
      ],
      "source": [
        "!kaggle datasets download -d adityajn105/flickr8k"
      ]
    },
    {
      "cell_type": "code",
      "execution_count": null,
      "metadata": {
        "colab": {
          "base_uri": "https://localhost:8080/"
        },
        "id": "8QNzMQFFNnrQ",
        "outputId": "473650f9-37ee-4227-9076-25f7e111bf16"
      },
      "outputs": [
        {
          "output_type": "stream",
          "name": "stdout",
          "text":
        }
      ],
      "source": [
        "!unzip /content/flickr8k.zip"
      ]
    },
    {
      "cell_type": "markdown",
      "metadata": {
        "id": "xAbXutqCDg9m"
      },
      "source": [
        "# **1- Introduction**\n",
        "\n",
        "\n",
        "\n",
        "---\n",
        "\n",
        "Automatically describing the content of an image is a fundamental problem in artificial intelligence that connects computer vision and natural language processing. In the paper \"Show and Tell: A Neural Image Caption Generator,\" the authors present a generative model based on a deep recurrent architecture that combines recent advances in computer vision and machine translation. This model can generate natural sentences describing an image by maximizing the likelihood of the target description sentence given the training image.<br><br>\n",
        "The paper demonstrates the accuracy and fluency of the model by conducting experiments on several datasets. For example, the model achieves a BLEU-1 score of 59 on the Pascal dataset, compared to the current state-of-the-art score of 25, and human performance around 69. The model also shows improvements on the BLEU-1 score for the Flickr30k dataset, from 56 to 66, and the SBU dataset, from 19 to 28. Additionally, on the COCO dataset, the model achieves a BLEU-4 score of 27.7, which is the current state-of-the-art.<br><br>\n",
        "In this notebook, we aim to reproduce the results of the paper by implementing the generative model and testing it on the Flickr30k dataset. We will follow the steps outlined in the paper, preprocessing, model architecture, training, evaluation, fine-tuning, and testing. By reproducing the paper's results, we can gain insights into the model's performance and further understand its capabilities in generating image captions.\n"
      ]
    },
    {
      "cell_type": "markdown",
      "metadata": {
        "id": "FnaGy23aEv5r"
      },
      "source": [
        "# **2- Data Preprocessing**\n",
        "\n",
        "\n",
        "---\n",
        "\n",
        "we first read the captions.txt file using pandas and checked the number of unique images and captions in the dataset. We then added a new column to the dataframe to group the captions by image.<br><br>\n",
        "Next, we created two dictionaries: one for the image names and one for the captions. We used the comment_number column to group the captions by comment and added each comment to the corresponding dictionary. We then converted the dictionaries to dataframes and concatenated them to create a new dataframe with the image names and multiple captions per image.<br><br>\n",
        "After that, we split the data into train, validation, and test sets using the train_test_split function from scikit-learn. We reset the indexes of the resulting dataframes to ensure that they start from 0.<br><br>\n",
        "Finally, we printed the shapes of the train, validation, and test sets to check the number of entries in each set."
      ]
    },
    {
      "cell_type": "code",
      "source": [
        "class Vocabulary :\n",
        "    def __init__(self, freq_threshold):\n",
        "        # itos will contain the mapping of indices to the corresponding words\n",
        "        self.itos = {0: \"<PAD>\", 1: \"<SOS>\", 2: \"<EOS>\", 3: \"<UNK>\"}\n",
        "\n",
        "        # stoi is just the inverse mapping of itos\n",
        "        self.stoi = {\"<PAD>\": 0, \"<SOS>\": 1, \"<EOS>\": 2, \"<UNK>\": 3}\n",
        "\n",
        "        # the number of times a word has to occur in the text for it to be eligible to be\n",
        "        # part of our vocabulary\n",
        "        self.freq_threshold = freq_threshold\n",
        "\n",
        "    # will return us the length of our vocabulary\n",
        "    def __len__(self):\n",
        "        return len(self.itos)\n",
        "\n",
        "    @staticmethod\n",
        "    def tokenizer_eng(text):\n",
        "        return [tok.text.lower() for tok in spacy_eng.tokenizer(text)]\n",
        "\n",
        "    # building our vocabulary from the set of sentences given to us\n",
        "    def build_vocabulary(self, sentence_list):\n",
        "        # to keep track of the frequency of a word appearing in our sentences\n",
        "        frequencies = {}\n",
        "\n",
        "        # starting from 4 as the first 4 are already taken up by the key words\n",
        "        idx = 4\n",
        "\n",
        "        for sentence in sentence_list:\n",
        "            for word in self.tokenizer_eng(sentence):\n",
        "                if word not in frequencies:\n",
        "                    frequencies[word] = 1\n",
        "\n",
        "                else:\n",
        "                    frequencies[word] += 1\n",
        "\n",
        "                if frequencies[word] == self.freq_threshold:\n",
        "                    self.stoi[word] = idx\n",
        "                    self.itos[idx] = word\n",
        "                    idx += 1\n",
        "\n",
        "    def numericalize(self, text):\n",
        "        tokenized_text = self.tokenizer_eng(text)\n",
        "\n",
        "        return [\n",
        "            self.stoi[token] if token in self.stoi else self.stoi[\"<UNK>\"]\n",
        "            for token in tokenized_text\n",
        "        ]\n"
      ],
      "metadata": {
        "id": "izQByu9ZudOg"
      },
      "execution_count": null,
      "outputs": []
    },
    {
      "cell_type": "code",
      "source": [
        "c = Vocabulary(4)"
      ],
      "metadata": {
        "id": "B13nECAoCbiu"
      },
      "execution_count": null,
      "outputs": []
    },
    {
      "cell_type": "code",
      "source": [
        "c.build_vocabulary([\"kyrillos Gayed Ishak\" , \"ishdfb shbbhsdf shfbshbf\"])"
      ],
      "metadata": {
        "id": "fPYRo2tFRR_2"
      },
      "execution_count": null,
      "outputs": []
    },
    {
      "cell_type": "code",
      "source": [],
      "metadata": {
        "id": "9zK4TuRWRnKx"
      },
      "execution_count": null,
      "outputs": []
    },
    {
      "cell_type": "markdown",
      "metadata": {
        "id": "wqzD5LK87ra_"
      },
      "source": [
        "![image.png](data:image/png;base64,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)"
      ]
    },
    {
      "cell_type": "markdown",
      "metadata": {
        "id": "46xfd0rlFieU"
      },
      "source": [
        "\n",
        "\n",
        "> As stated in the paper we split the 8000 samples from the Dataset to 6000 for training ,1000 for testing and 1000 for validation but as the data downloaded from kaggle is 8091 sample we decided to split like 5618 1124 1349 to ensure the same ratio as possible\n",
        "\n"
      ]
    },
    {
      "cell_type": "markdown",
      "metadata": {
        "id": "q46D8xGCGTNY"
      },
      "source": [
        "# **3- Dataset**\n",
        "\n",
        "\n",
        "---\n",
        "\n",
        "we first tokenizing and padding sequences of text data using TensorFlow and Keras. we created a tokenizer object and fits it on the training data. The tokenizer object creates a word index, which maps words in the vocabulary to their numeric representation, and tokenizes the text data by turning each text into a sequence of integers, where each integer is the index of a token in the dictionary. The code then pads each vector to the max_length of the captions using the pad_sequences method. If a max_length value is not provided, `pad_sequences` calculates it automatically. The `train_cap_vector`, `val_cap_vector`, and `test_cap_vector` are created by padding each vector to the max_length of the captions. Finally, the code creates three tf.data.Dataset objects from the padded vectors. then loaded images from a given path, resizes them to a specified size, and converts them to float32 data type. The function uses three datasets, train_ds, val_ds, and test_ds, each containing a combination of image and caption data. The datasets are batched and prefetched using the AUTOTUNE and BATCH_SIZE parameters. The function uses the TensorFlow library functions, including tf.io.read_file, tf.image.decode_jpeg, tf.image.convert_image_dtype, tf.image.resize, and tf.data.Dataset. The code is part of a machine learning model that trains on image and caption data.\n"
      ]
    },
    {
      "cell_type": "code",
      "source": [
        "class Flickr8k(Dataset):\n",
        "    def __init__(self,images_path,captions_file,transform = None,freq_threshold=4):\n",
        "        self.images_path = images_path\n",
        "        self.captions_file = captions_file\n",
        "        self.dataframe = pd.read_csv(captions_file)\n",
        "        self.transform = transform\n",
        "\n",
        "        # Get img, caption columns\n",
        "        self.imgs = self.dataframe[\"image\"]\n",
        "        self.captions = self.dataframe[\"caption\"]\n",
        "\n",
        "        # Initialize vocabulary and build vocab\n",
        "        self.vocab = Vocabulary(freq_threshold)\n",
        "        self.vocab.build_vocabulary(self.captions.tolist())\n",
        "\n",
        "        # Splitting it into train and test datasets\n",
        "        self.train_imgs , self.test_imgs , self.train_captions , self.test_captions = train_test_split(self.imgs,self.captions,test_size=0.2,train_size=0.8,random_state=1,shuffle=True)\n",
        "\n",
        "        self.train_imgs.reset_index(drop=True, inplace=True)\n",
        "        self.train_captions.reset_index(drop=True, inplace=True)\n",
        "        self.test_imgs.reset_index(drop=True, inplace=True)\n",
        "        self.test_captions.reset_index(drop=True, inplace=True)\n",
        "\n",
        "    def get_training_data(self):\n",
        "        return self.train_imgs, self.train_captions\n",
        "\n",
        "    def get_testing_data(self):\n",
        "        return self.test_imgs, self.test_captions\n"
      ],
      "metadata": {
        "id": "vJVsb2EYuezj"
      },
      "execution_count": null,
      "outputs": []
    },
    {
      "cell_type": "code",
      "source": [
        "class Flickr8k_Training(Dataset):\n",
        "    def __init__(self, images_path , train_imgs, train_captions, vocab, transform=None):\n",
        "        self.images_path = images_path\n",
        "        self.transform = transform\n",
        "        self.imgs = train_imgs\n",
        "        self.captions = train_captions\n",
        "\n",
        "        # Initialize vocabulary and build vocab\n",
        "        self.vocab = vocab\n",
        "\n",
        "    def __len__(self):\n",
        "        return len(self.captions)\n",
        "\n",
        "    def __getitem__(self, index):\n",
        "        caption = self.captions[index]\n",
        "        img_id = self.imgs[index]\n",
        "        img = Image.open(os.path.join(self.images_path, img_id)).convert(\"RGB\")\n",
        "\n",
        "        if self.transform is not None:\n",
        "            img = self.transform(img)\n",
        "\n",
        "        numericalized_caption = [self.vocab.stoi[\"<SOS>\"]]\n",
        "        numericalized_caption += self.vocab.numericalize(caption)\n",
        "        numericalized_caption.append(self.vocab.stoi[\"<EOS>\"])\n",
        "        print(img)\n",
        "        return img, torch.tensor(numericalized_caption)\n",
        "\n",
        "\n",
        "class Flickr8k_Testing(Dataset):\n",
        "    def __init__(self, images_path, test_imgs, test_captions, vocab, transform=None):\n",
        "        self.images_path = images_path\n",
        "        self.transform = transform\n",
        "        self.imgs = test_imgs\n",
        "        self.captions = test_captions\n",
        "\n",
        "        # Initialize vocabulary and build vocab\n",
        "        self.vocab = vocab\n",
        "\n",
        "    def __len__(self):\n",
        "        return len(self.captions)\n",
        "\n",
        "    def __getitem__(self, index):\n",
        "        caption = self.captions[index]\n",
        "        img_id = self.imgs[index]\n",
        "        img = Image.open(os.path.join(self.images_path, img_id)).convert(\"RGB\")\n",
        "\n",
        "        if self.transform is not None:\n",
        "            img = self.transform(img)\n",
        "\n",
        "        numericalized_caption = [self.vocab.stoi[\"<SOS>\"]]\n",
        "        numericalized_caption += self.vocab.numericalize(caption)\n",
        "        numericalized_caption.append(self.vocab.stoi[\"<EOS>\"])\n",
        "        print(torch.tensor(numericalized_caption))\n",
        "        return img, torch.tensor(numericalized_caption)\n",
        "\n",
        "class MyCollate:\n",
        "    def __init__(self, pad_idx):\n",
        "        self.pad_idx = pad_idx\n",
        "\n",
        "    def __call__(self, batch):\n",
        "        imgs = [item[0].unsqueeze(0) for item in batch]\n",
        "        imgs = torch.cat(imgs, dim=0)\n",
        "        targets = [item[1] for item in batch]\n",
        "        targets = pad_sequence(targets, batch_first=False, padding_value=self.pad_idx)\n",
        "\n",
        "        return imgs, targets"
      ],
      "metadata": {
        "id": "j-anfvq6ulWQ"
      },
      "execution_count": null,
      "outputs": []
    },
    {
      "cell_type": "code",
      "execution_count": null,
      "metadata": {
        "id": "gKn5PI8qqhto"
      },
      "outputs": [],
      "source": [
        "def get_loader(root_folder,\n",
        "    annotation_file,\n",
        "    transform,\n",
        "    batch_size=32,\n",
        "    num_workers=2,\n",
        "    shuffle=True,\n",
        "    pin_memory=True,\n",
        "    ):\n",
        "    dataset = Flickr8k(root_folder,annotation_file,transform)\n",
        "    train_imgs , train_captions = dataset.get_training_data()\n",
        "    test_imgs , test_captions = dataset.get_testing_data()\n",
        "\n",
        "    train_dataset = Flickr8k_Training(root_folder,train_imgs,train_captions,dataset.vocab,transform)\n",
        "    test_dataset = Flickr8k_Testing(root_folder,test_imgs,test_captions,dataset.vocab,transform)\n",
        "\n",
        "    pad_idx_train = train_dataset.vocab.stoi[\"<PAD>\"]\n",
        "    pad_idx_test = test_dataset.vocab.stoi[\"<PAD>\"]\n",
        "\n",
        "    train_loader = DataLoader(\n",
        "        dataset=train_dataset,\n",
        "        batch_size=batch_size,\n",
        "        num_workers=num_workers,\n",
        "        shuffle=shuffle,\n",
        "        pin_memory=pin_memory,\n",
        "        collate_fn=MyCollate(pad_idx=pad_idx_train),\n",
        "    )\n",
        "\n",
        "    test_loader = DataLoader(\n",
        "        dataset=test_dataset,\n",
        "        batch_size=batch_size,\n",
        "        num_workers=num_workers,\n",
        "        shuffle=shuffle,\n",
        "        pin_memory=pin_memory,\n",
        "        collate_fn=MyCollate(pad_idx=pad_idx_test),\n",
        "    )\n",
        "\n",
        "    return train_loader, test_loader, train_dataset, test_dataset,test_imgs, test_captions"
      ]
    },
    {
      "cell_type": "code",
      "execution_count": null,
      "metadata": {
        "id": "XK3BnzByBVfn"
      },
      "outputs": [],
      "source": [
        "transform = transforms.Compose(\n",
        "        [transforms.Resize((224, 224)), transforms.ToTensor(), ]\n",
        "    )\n",
        "train_loader, test_loader, train_dataset, test_dataset,test_imgs, test_captions= get_loader(\n",
        "    \"Images/\", \"captions.txt\", transform=transform\n",
        ")\n"
      ]
    },
    {
      "cell_type": "markdown",
      "metadata": {
        "id": "3TS7qPznQiTb"
      },
      "source": [
        "# **4- Model**\n",
        "\n",
        "\n",
        "---\n",
        "The paper Explains that there is a recent work by `J. Mao, Explain images with multimodal recurrent neural networks.` uses a recurrent NN for the same\n",
        "prediction task but there is some important differences:\n",
        "\n",
        "*   They use a\n",
        "more powerful RNN model, and provide the visual input to\n",
        "the RNN model directly, which makes it possible for the\n",
        "RNN to keep track of the objects that have been explained\n",
        "by the text.\n",
        "\n",
        "\n",
        "\n",
        "> Their approach, use two separate pathways (one for `images`, one for `text`) to define a joint\n",
        "embedding, and, even though they can generate text, their\n",
        "approach is highly tuned for ranking.\n",
        "\n",
        "<br>\n",
        "\n",
        "\n",
        "---\n",
        "<br>\n",
        "\n",
        "Given a powerful sequence model, it is possible to achieve\n",
        "state-of-the-art results by directly maximizing the probability of the correct translation given an input sentence in\n",
        "an “end-to-end” fashion – both for training and inference.\n",
        "So that:\n",
        "\n",
        "\n",
        "*   These models make use of a recurrent neural network which\n",
        "encodes the variable length input into a fixed dimensional\n",
        "vector, and uses this representation to “decode” it to the desired output sentence\n",
        "\n",
        "\n",
        "\n",
        "\n",
        "\n",
        "> Thus, it is natural to use the same approach where, given an image (instead of an input sentence\n",
        "in the source language), one applies the same principle of\n",
        "“translating” it into its description.\n",
        "\n",
        "\n",
        "---\n",
        "\n",
        "<br>\n",
        "\n",
        "The paper propose to directly maximize the probability of\n",
        "the correct description given the image by using the following formulation:\n",
        "\n",
        "<br>\n",
        "\n",
        "$$ \\theta^{*} = arg\\max_{\\theta} \\sum_{(I , S)} log \\, p(S | I ; \\theta) $$\n",
        "\n",
        "<br>\n",
        "\n",
        "&nbsp;&nbsp;&nbsp;&nbsp;&nbsp;&nbsp;&nbsp;&nbsp;&nbsp;&nbsp;&nbsp;&nbsp;&nbsp;&nbsp;&nbsp;&nbsp;&nbsp;&nbsp;&nbsp;&nbsp;&nbsp;&nbsp;&nbsp;&nbsp;&nbsp;&nbsp;&nbsp;&nbsp;&nbsp;&nbsp;&nbsp;&nbsp;&nbsp;&nbsp;&nbsp;&nbsp;&nbsp;&nbsp;&nbsp;&nbsp;&nbsp;&nbsp;&nbsp;&nbsp;&nbsp;&nbsp;&nbsp;&nbsp;&nbsp;&nbsp;&nbsp;&nbsp;&nbsp;&nbsp;&nbsp;&nbsp;&nbsp;&nbsp;&nbsp;&nbsp;&nbsp;&nbsp;&nbsp;&nbsp;  $\\theta$  is the Parameters of our model  &nbsp;&nbsp;&nbsp;&nbsp;&nbsp;&nbsp;&nbsp;&nbsp; $I$  is the  Image      &nbsp;&nbsp;&nbsp;&nbsp;&nbsp;&nbsp;&nbsp;&nbsp;   $S$  is the  Sentence  \n",
        "\n",
        "(S, I) is a training example pair, and we optimize the sum of the log probabilities over the whole training set using stochastic gradient descent\n",
        "\n",
        "It is natural to model:  $$p(St|I, S0, . . . , St−1)$$ with a Recurrent Neural Network (RNN), where the variable number\n",
        "of words we condition upon up to t − 1 is expressed by a\n",
        "fixed length hidden state or memory ht. This memory is\n",
        "updated after seeing a new input xt by using a non-linear\n",
        "function f:\n",
        "\n",
        "$$h𝚝+1 = f(ht, xt) $$\n",
        "\n",
        "<br>\n",
        "\n",
        "Two crucial design choices are to be made:\n",
        "*     what is the exact form of `f` and\n",
        "how are the images and words fed as inputs `xt`. For `f` we\n",
        "use a Long-Short Term Memory (`LSTM`) net.\n",
        "*   For the representation of images, we use a Convolutional\n",
        "Neural Network (`CNN`).\n",
        "\n",
        "\n",
        "---\n",
        "\n",
        "\n",
        "TODO : ExPLAIN LSTm\n",
        "\n",
        "![image.png](data:image/png;base64,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)"
      ]
    },
    {
      "cell_type": "code",
      "execution_count": null,
      "metadata": {
        "id": "PN8ceixTBZlk"
      },
      "outputs": [],
      "source": [
        "import torch\n",
        "import torch.nn as nn\n",
        "import torchvision.models as model\n",
        "\n",
        "class EncoderCNN(nn.Module):\n",
        "    def __init__(self, embed_size):\n",
        "        super(EncoderCNN,self).__init__()\n",
        "\n",
        "        # pretrained GoogLeNet model from PyTorch , aux_logits = False because we do not need to train\n",
        "        # the whole model again and auxillary outputs is useful only while training.\n",
        "        self.model = torch.hub.load('pytorch/vision:v0.9.0', 'googlenet', pretrained=True)\n",
        "\n",
        "        # freezing all the layers of the GoogLeNet model\n",
        "        for param in self.model.parameters():\n",
        "            param.requires_grad = False\n",
        "\n",
        "        # replacing the last layer of the model with a linear layer with output size as the embed_size\n",
        "        self.model.fc = nn.Linear(self.model.fc.in_features,embed_size)\n",
        "\n",
        "        # dropout layer\n",
        "        self.dropout = nn.Dropout(p=0.5)\n",
        "\n",
        "        # activation layer\n",
        "        self.relu = nn.ReLU()\n",
        "\n",
        "    def forward(self, images):\n",
        "        # getting the latent representation of our image\n",
        "        output = self.model(images)\n",
        "\n",
        "        # applying relu activation and dropout layer\n",
        "        return self.dropout(self.relu(output))"
      ]
    },
    {
      "cell_type": "code",
      "execution_count": null,
      "metadata": {
        "id": "p_KUq5_wBcdl"
      },
      "outputs": [],
      "source": [
        "class DecoderLSTM(nn.Module):\n",
        "    def __init__(self,embed_size,hidden_size,vocab_size,num_layers):\n",
        "        super(DecoderLSTM,self).__init__()\n",
        "\n",
        "        # defining our class properties\n",
        "        self.embed_size = embed_size\n",
        "        self.hidden_size = hidden_size\n",
        "        self.vocab_size = vocab_size\n",
        "        self.num_layers = num_layers\n",
        "\n",
        "        # LSTM Cell\n",
        "        self.lstm = nn.LSTM(input_size=self.embed_size,hidden_size=self.hidden_size,num_layers=self.num_layers)\n",
        "\n",
        "        # Output Layer\n",
        "        self.linear = nn.Linear(in_features=self.hidden_size,out_features=self.vocab_size)\n",
        "\n",
        "        # Embedding Layer\n",
        "        self.embedding = nn.Embedding(num_embeddings=self.vocab_size,embedding_dim=self.embed_size)\n",
        "\n",
        "        # Dropout Layer\n",
        "        self.dropout = nn.Dropout(p = 0.5)\n",
        "\n",
        "    def forward(self, features, captions):\n",
        "        # Getting the word embeddings for the captions\n",
        "        word_embeddings = self.dropout(self.embedding(captions))\n",
        "\n",
        "        # our input vector will be the feature vector from the images + target captions during each time step\n",
        "        # during training\n",
        "        word_embeddings = torch.cat((features.unsqueeze(0), word_embeddings), dim = 0)\n",
        "\n",
        "        # Getting the cell state and the hidden state from the LSTM\n",
        "        hidden_state, cell_state = self.lstm(word_embeddings)\n",
        "\n",
        "        # Applying the linear layer to get a probability distribution output\n",
        "        return self.linear(hidden_state)\n"
      ]
    },
    {
      "cell_type": "code",
      "execution_count": null,
      "metadata": {
        "id": "iliBsudKsj6u"
      },
      "outputs": [],
      "source": [
        "class ImageToCaption(nn.Module):\n",
        "    def __init__(self, embed_size, hidden_size, vocab_size, num_layers):\n",
        "        super(ImageToCaption,self).__init__()\n",
        "\n",
        "        # Initializing the Encoder CNN\n",
        "        self.encoder = EncoderCNN(embed_size)\n",
        "\n",
        "        # Initializing the Decoder LSTM\n",
        "        self.decoder = DecoderLSTM(embed_size,hidden_size,vocab_size,num_layers)\n",
        "\n",
        "    def forward(self,images,captions):\n",
        "        # Getting the latent representation of the image from the encoder\n",
        "        features = self.encoder(images)\n",
        "\n",
        "        # Returning the captions from the decoder LSTM during training time.\n",
        "        return self.decoder(features,captions)\n",
        "\n",
        "    def generate_caption(self,image,vocabulary,max_length = 50):\n",
        "        # Initializing an empty list\n",
        "        generated_caption = []\n",
        "\n",
        "        # Inference time so no grad is required\n",
        "        with torch.no_grad():\n",
        "\n",
        "            # Defining the initial Input and the cell state\n",
        "            x = self.encoder(image).unsqueeze(0)\n",
        "            state = None\n",
        "\n",
        "            for _ in range(max_length):\n",
        "                # finding the hidden and cell states\n",
        "                hidden, state = self.decoder.lstm(x,state)\n",
        "\n",
        "                # applying the linear layer on the hidden state to get the output distribution\n",
        "                output = self.decoder.linear(hidden.squeeze(0))\n",
        "\n",
        "                # find out the word with the highest probability\n",
        "                predicted = output.argmax(1)\n",
        "\n",
        "                # appending the index of the word in our generated_caption list\n",
        "                generated_caption.append(predicted.item())\n",
        "\n",
        "                # setting the input for the next iteration\n",
        "                x = self.decoder.embedding(predicted).unsqueeze(0)\n",
        "\n",
        "                # if our model predicts End of Sequence then we just stop\n",
        "                if vocabulary.itos[predicted.item()] == \"<EOS>\":\n",
        "                    break\n",
        "\n",
        "        # we convert the indices to the words\n",
        "        return [vocabulary.itos[idx] for idx in generated_caption]"
      ]
    },
    {
      "cell_type": "markdown",
      "metadata": {
        "id": "qtHtFmNi8iR4"
      },
      "source": [
        "# **5- Training**\n",
        "\n",
        "---\n",
        "\n",
        "LSTM model is trained to predict each\n",
        "word of the sentence after it has seen the image as well\n",
        "as all preceding words as defined by $$p(St|I, S0, . . . , St−1)$$\n",
        "For this purpose, it is instructive to think of the LSTM in unrolled form – a copy of the LSTM memory is created for the image and each sentence word such that all LSTMs share the same `parameters`.\n",
        "<br><br>\n",
        "In the paper, the authors represent each word as a one-hot vector of dimension equal to the size of the dictionary. They use a special start word S0 and a special stop word SN to designate the start and end of the sentence. The LSTM signals that a complete sentence has been generated by emitting the stop word. Both the image and the words are mapped to the same space, the image by using a vision CNN, the words by using word embedding We.\n",
        " <br><br>\n",
        "But there is another approach that using `SparseCategoricalCrossentropy`, because here it would be inefficient to use one-hot-encoders are the ground truth. We will also use mask to help mask the <pad> so that we do not let the sequence model learn to overfit on the same They use SparseCategoricalCrossentropy because it would be inefficient to use one-hot-encoders as the ground truth. The authors also note that feeding the image at each time step as an extra input yields inferior results, as the network can explicitly exploit noise in the image and overfit more easily\n",
        "\n",
        "![image.png](data:image/png;base64,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)\n",
        "\n",
        "\n",
        " <br>\n",
        "\n",
        "---\n",
        "\n",
        " <br>\n",
        "\n",
        "`CategoricalCrossentropy` expects the true labels to be provided in a one-hot representation, where each label is a vector of length equal to the number of classes, with a value of 1 for the true class and 0 for all other classes. This means that the output of the model is compared to a one-hot encoded vector representing the true label.\n",
        "\n",
        "`SparseCategoricalCrossentropy`, on the other hand, expects the true labels to be provided as integers, where each integer represents the index of the true class. This means that the output of the model is compared to an integer representing the true label\n",
        "\n",
        "the same loss"
      ]
    },
    {
      "cell_type": "code",
      "source": [],
      "metadata": {
        "id": "LoljHLpiTk_E"
      },
      "execution_count": null,
      "outputs": []
    },
    {
      "cell_type": "code",
      "source": [
        "####### (40 epochs with plots)\n",
        "import torch\n",
        "from tqdm import tqdm\n",
        "import torch.nn as nn\n",
        "import torch.optim as optim\n",
        "import torchvision.transforms as transforms\n",
        "from torch.utils.tensorboard import SummaryWriter\n",
        "import matplotlib.pyplot as plt\n",
        "\n",
        "\n",
        "def train():\n",
        "    transform = transforms.Compose(\n",
        "        [\n",
        "            transforms.Resize((356, 356)),\n",
        "            transforms.RandomCrop((299, 299)),\n",
        "            transforms.ToTensor(),\n",
        "            transforms.Normalize((0.5, 0.5, 0.5), (0.5, 0.5, 0.5)),\n",
        "        ]\n",
        "    )\n",
        "\n",
        "    train_loader, test_loader, train_dataset, test_dataset, _, _ = get_loader(\n",
        "        root_folder=\"Images\",\n",
        "        annotation_file=\"captions.txt\",\n",
        "        transform=transform,\n",
        "        num_workers=2,\n",
        "    )\n",
        "\n",
        "    save_train_dataloader(train_loader, filename=\"saved_train_dataloader.pt\")\n",
        "    save_test_dataloader(test_loader, filename=\"saved_test_dataloader.pt\")\n",
        "    save_train_dataset(train_dataset, filename=\"saved_train_dataset.pt\")\n",
        "    save_test_dataset(test_dataset, filename=\"saved_test_dataset.pt\")\n",
        "\n",
        "    torch.backends.cudnn.benchmark = True\n",
        "    device = torch.device(\"cuda\" if torch.cuda.is_available() else \"cpu\")\n",
        "    load_model = False\n",
        "    save_model = True\n",
        "    train_CNN = False\n",
        "\n",
        "    # Hyperparameters\n",
        "    embed_size = 256\n",
        "    hidden_size = 256\n",
        "    vocab_size = len(train_dataset.vocab)\n",
        "    num_layers = 1\n",
        "    learning_rate = 3e-4\n",
        "    num_epochs = 40\n",
        "\n",
        "    # for tensorboard\n",
        "    writer = SummaryWriter(\"runs/flickr\")\n",
        "    step = 0\n",
        "\n",
        "    # initialize model, loss etc\n",
        "    model = ImageToCaption(embed_size, hidden_size, vocab_size, num_layers).to(device)\n",
        "    criterion = nn.CrossEntropyLoss(ignore_index=train_dataset.vocab.stoi[\"<PAD>\"])\n",
        "    optimizer = optim.Adam(model.parameters(), lr=learning_rate)\n",
        "\n",
        "    if load_model:\n",
        "        step = load_checkpoint(torch.load(\"saved_checkpoint.pt\"), model, optimizer)\n",
        "\n",
        "    model.train()\n",
        "\n",
        "    train_losses = []\n",
        "    val_losses = []\n",
        "\n",
        "    for epoch in range(num_epochs):\n",
        "        if save_model:\n",
        "            checkpoint = {\n",
        "                \"state_dict\": model.state_dict(),\n",
        "                \"optimizer\": optimizer.state_dict(),\n",
        "                \"step\": step,\n",
        "            }\n",
        "            save_checkpoint(checkpoint)\n",
        "\n",
        "        total_loss = 0.0\n",
        "        total_samples = 0\n",
        "\n",
        "        for idx, (imgs, captions) in tqdm(\n",
        "            enumerate(train_loader), total=len(train_loader), leave=False\n",
        "        ):\n",
        "            imgs = imgs.to(device)\n",
        "            captions = captions.to(device)\n",
        "\n",
        "            outputs = model(imgs, captions[:-1])\n",
        "            loss = criterion(outputs.reshape(-1, outputs.shape[2]), captions.reshape(-1))\n",
        "            writer.add_scalar(\"Training loss\", loss.item(), global_step=step)\n",
        "            step += 1\n",
        "\n",
        "            optimizer.zero_grad()\n",
        "            loss.backward()\n",
        "            optimizer.step()\n",
        "\n",
        "            total_loss += loss.item() * imgs.size(0)\n",
        "            total_samples += imgs.size(0)\n",
        "\n",
        "        epoch_loss = total_loss / total_samples\n",
        "        train_losses.append(epoch_loss)\n",
        "        print(f\"Epoch [{epoch+1}/{num_epochs}], Training Loss: {epoch_loss:.4f}\")\n",
        "\n",
        "        # Validation\n",
        "        model.eval()\n",
        "        with torch.no_grad():\n",
        "            total_val_loss = 0.0\n",
        "            total_val_samples = 0\n",
        "\n",
        "            for val_imgs, val_captions in test_loader:\n",
        "                val_imgs = val_imgs.to(device)\n",
        "                val_captions = val_captions.to(device)\n",
        "\n",
        "                val_outputs = model(val_imgs, val_captions[:-1])\n",
        "                val_loss = criterion(\n",
        "                    val_outputs.reshape(-1, val_outputs.shape[2]), val_captions.reshape(-1)\n",
        "                )\n",
        "                total_val_loss += val_loss.item() * val_imgs.size(0)\n",
        "                total_val_samples += val_imgs.size(0)\n",
        "\n",
        "            val_epoch_loss = total_val_loss / total_val_samples\n",
        "            val_losses.append(val_epoch_loss)\n",
        "            print(f\"Epoch [{epoch+1}/{num_epochs}], Validation Loss: {val_epoch_loss:.4f}\")\n",
        "\n",
        "        model.train()\n",
        "\n",
        "    # Plotting training and validation losses\n",
        "    plot_loss(train_losses, val_losses)\n",
        "\n",
        "\n",
        "def plot_loss(train_losses, val_losses):\n",
        "    plt.plot(train_losses, label='Training Loss')\n",
        "    plt.plot(val_losses, label='Validation Loss')\n",
        "    plt.xlabel('Epoch')\n",
        "    plt.ylabel('Loss')\n",
        "    plt.title('Training and Validation Loss')\n",
        "    plt.legend()\n",
        "    plt.show()\n"
      ],
      "metadata": {
        "id": "XggetDHsOool"
      },
      "execution_count": null,
      "outputs": []
    },
    {
      "cell_type": "code",
      "source": [
        "train()"
      ],
      "metadata": {
        "id": "ySSABY6eOvxU",
        "colab": {
          "base_uri": "https://localhost:8080/",
          "height": 1000
        },
        "outputId": "d8f44a96-cb1c-47fa-e24c-750e399303e4"
      },
      "execution_count": null,
      "outputs": [
        {
          "metadata": {
            "tags": null
          },
          "name": "stdout",
          "output_type": "stream",
          "text": [
            "=> Saving Train Dataloader\n",
            "=> Saving Test Dataloader\n",
            "=> Saving Train Dataset\n",
            "=> Saving Test Dataset\n"
          ]
        },
        {
          "metadata": {
            "tags": null
          },
          "name": "stderr",
          "output_type": "stream",
          "text": [
            "Downloading: \"https://github.com/pytorch/vision/zipball/v0.9.0\" to /root/.cache/torch/hub/v0.9.0.zip\n",
            "/usr/local/lib/python3.10/dist-packages/torchvision/models/_utils.py:208: UserWarning: The parameter 'pretrained' is deprecated since 0.13 and may be removed in the future, please use 'weights' instead.\n",
            "  warnings.warn(\n",
            "/usr/local/lib/python3.10/dist-packages/torchvision/models/_utils.py:223: UserWarning: Arguments other than a weight enum or `None` for 'weights' are deprecated since 0.13 and may be removed in the future. The current behavior is equivalent to passing `weights=GoogLeNet_Weights.IMAGENET1K_V1`. You can also use `weights=GoogLeNet_Weights.DEFAULT` to get the most up-to-date weights.\n",
            "  warnings.warn(msg)\n",
            "Downloading: \"https://download.pytorch.org/models/googlenet-1378be20.pth\" to /root/.cache/torch/hub/checkpoints/googlenet-1378be20.pth\n",
            "100%|██████████| 49.7M/49.7M [00:00<00:00, 280MB/s]\n"
          ]
        },
        {
          "metadata": {
            "tags": null
          },
          "name": "stdout",
          "output_type": "stream",
          "text": [
            "=> Saving checkpoint\n"
          ]
        },
        {
          "metadata": {
            "tags": null
          },
          "name": "stderr",
          "output_type": "stream",
          "text": [
            "                                                   "
          ]
        },
        {
          "metadata": {
            "tags": null
          },
          "name": "stdout",
          "output_type": "stream",
          "text": [
            "Epoch [1/40], Training Loss: 3.9387\n"
          ]
        },
        {
          "metadata": {
            "tags": null
          },
          "name": "stderr",
          "output_type": "stream",
          "text": [
            "\r"
          ]
        },
        {
          "metadata": {
            "tags": null
          },
          "name": "stdout",
          "output_type": "stream",
          "text": [
            "Epoch [1/40], Validation Loss: 3.3710\n",
            "=> Saving checkpoint\n"
          ]
        },
        {
          "metadata": {
            "tags": null
          },
          "name": "stderr",
          "output_type": "stream",
          "text": [
            "                                                   "
          ]
        },
        {
          "metadata": {
            "tags": null
          },
          "name": "stdout",
          "output_type": "stream",
          "text": [
            "Epoch [2/40], Training Loss: 3.2785\n"
          ]
        },
        {
          "metadata": {
            "tags": null
          },
          "name": "stderr",
          "output_type": "stream",
          "text": [
            "\r"
          ]
        },
        {
          "metadata": {
            "tags": null
          },
          "name": "stdout",
          "output_type": "stream",
          "text": [
            "Epoch [2/40], Validation Loss: 3.1089\n",
            "=> Saving checkpoint\n"
          ]
        },
        {
          "metadata": {
            "tags": null
          },
          "name": "stderr",
          "output_type": "stream",
          "text": [
            "                                                   "
          ]
        },
        {
          "metadata": {
            "tags": null
          },
          "name": "stdout",
          "output_type": "stream",
          "text": [
            "Epoch [3/40], Training Loss: 3.0632\n"
          ]
        },
        {
          "metadata": {
            "tags": null
          },
          "name": "stderr",
          "output_type": "stream",
          "text": [
            "\r"
          ]
        },
        {
          "metadata": {
            "tags": null
          },
          "name": "stdout",
          "output_type": "stream",
          "text": [
            "Epoch [3/40], Validation Loss: 2.9555\n",
            "=> Saving checkpoint\n"
          ]
        },
        {
          "metadata": {
            "tags": null
          },
          "name": "stderr",
          "output_type": "stream",
          "text": [
            "                                                   "
          ]
        },
        {
          "metadata": {
            "tags": null
          },
          "name": "stdout",
          "output_type": "stream",
          "text": [
            "Epoch [4/40], Training Loss: 2.9226\n"
          ]
        },
        {
          "metadata": {
            "tags": null
          },
          "name": "stderr",
          "output_type": "stream",
          "text": [
            "\r"
          ]
        },
        {
          "metadata": {
            "tags": null
          },
          "name": "stdout",
          "output_type": "stream",
          "text": [
            "Epoch [4/40], Validation Loss: 2.8501\n",
            "=> Saving checkpoint\n"
          ]
        },
        {
          "metadata": {
            "tags": null
          },
          "name": "stderr",
          "output_type": "stream",
          "text": [
            "                                                   "
          ]
        },
        {
          "metadata": {
            "tags": null
          },
          "name": "stdout",
          "output_type": "stream",
          "text": [
            "Epoch [5/40], Training Loss: 2.8193\n"
          ]
        },
        {
          "metadata": {
            "tags": null
          },
          "name": "stderr",
          "output_type": "stream",
          "text": [
            "\r"
          ]
        },
        {
          "metadata": {
            "tags": null
          },
          "name": "stdout",
          "output_type": "stream",
          "text": [
            "Epoch [5/40], Validation Loss: 2.7726\n",
            "=> Saving checkpoint\n"
          ]
        },
        {
          "output_type": "stream",
          "name": "stderr",
          "text": [
            "                                                   "
          ]
        },
        {
          "output_type": "stream",
          "name": "stdout",
          "text": [
            "Epoch [6/40], Training Loss: 2.7384\n"
          ]
        },
        {
          "output_type": "stream",
          "name": "stderr",
          "text": [
            "\r"
          ]
        },
        {
          "output_type": "stream",
          "name": "stdout",
          "text": [
            "Epoch [6/40], Validation Loss: 2.7120\n",
            "=> Saving checkpoint\n"
          ]
        },
        {
          "output_type": "stream",
          "name": "stderr",
          "text": [
            "                                                   "
          ]
        },
        {
          "output_type": "stream",
          "name": "stdout",
          "text": [
            "Epoch [7/40], Training Loss: 2.6717\n"
          ]
        },
        {
          "output_type": "stream",
          "name": "stderr",
          "text": [
            "\r"
          ]
        },
        {
          "output_type": "stream",
          "name": "stdout",
          "text": [
            "Epoch [7/40], Validation Loss: 2.6681\n",
            "=> Saving checkpoint\n"
          ]
        },
        {
          "output_type": "stream",
          "name": "stderr",
          "text": [
            "                                                   "
          ]
        },
        {
          "output_type": "stream",
          "name": "stdout",
          "text": [
            "Epoch [8/40], Training Loss: 2.6186\n"
          ]
        },
        {
          "output_type": "stream",
          "name": "stderr",
          "text": [
            "\r"
          ]
        },
        {
          "output_type": "stream",
          "name": "stdout",
          "text": [
            "Epoch [8/40], Validation Loss: 2.6295\n",
            "=> Saving checkpoint\n"
          ]
        },
        {
          "output_type": "stream",
          "name": "stderr",
          "text": [
            "                                                   "
          ]
        },
        {
          "output_type": "stream",
          "name": "stdout",
          "text": [
            "Epoch [9/40], Training Loss: 2.5711\n"
          ]
        },
        {
          "output_type": "stream",
          "name": "stderr",
          "text": [
            "\r"
          ]
        },
        {
          "output_type": "stream",
          "name": "stdout",
          "text": [
            "Epoch [9/40], Validation Loss: 2.5987\n",
            "=> Saving checkpoint\n"
          ]
        },
        {
          "output_type": "stream",
          "name": "stderr",
          "text": [
            "                                                   "
          ]
        },
        {
          "output_type": "stream",
          "name": "stdout",
          "text": [
            "Epoch [10/40], Training Loss: 2.5314\n"
          ]
        },
        {
          "output_type": "stream",
          "name": "stderr",
          "text": [
            "\r"
          ]
        },
        {
          "output_type": "stream",
          "name": "stdout",
          "text": [
            "Epoch [10/40], Validation Loss: 2.5712\n",
            "=> Saving checkpoint\n"
          ]
        },
        {
          "output_type": "stream",
          "name": "stderr",
          "text": [
            "                                                   "
          ]
        },
        {
          "output_type": "stream",
          "name": "stdout",
          "text": [
            "Epoch [11/40], Training Loss: 2.4955\n"
          ]
        },
        {
          "output_type": "stream",
          "name": "stderr",
          "text": [
            "\r"
          ]
        },
        {
          "output_type": "stream",
          "name": "stdout",
          "text": [
            "Epoch [11/40], Validation Loss: 2.5521\n",
            "=> Saving checkpoint\n"
          ]
        },
        {
          "output_type": "stream",
          "name": "stderr",
          "text": [
            "                                                   "
          ]
        },
        {
          "output_type": "stream",
          "name": "stdout",
          "text": [
            "Epoch [12/40], Training Loss: 2.4644\n"
          ]
        },
        {
          "output_type": "stream",
          "name": "stderr",
          "text": [
            "\r"
          ]
        },
        {
          "output_type": "stream",
          "name": "stdout",
          "text": [
            "Epoch [12/40], Validation Loss: 2.5349\n",
            "=> Saving checkpoint\n"
          ]
        },
        {
          "output_type": "stream",
          "name": "stderr",
          "text": [
            "                                                   "
          ]
        },
        {
          "output_type": "stream",
          "name": "stdout",
          "text": [
            "Epoch [13/40], Training Loss: 2.4359\n"
          ]
        },
        {
          "output_type": "stream",
          "name": "stderr",
          "text": [
            "\r"
          ]
        },
        {
          "output_type": "stream",
          "name": "stdout",
          "text": [
            "Epoch [13/40], Validation Loss: 2.5144\n",
            "=> Saving checkpoint\n"
          ]
        },
        {
          "output_type": "stream",
          "name": "stderr",
          "text": [
            "                                                   "
          ]
        },
        {
          "output_type": "stream",
          "name": "stdout",
          "text": [
            "Epoch [14/40], Training Loss: 2.4087\n"
          ]
        },
        {
          "output_type": "stream",
          "name": "stderr",
          "text": [
            "\r"
          ]
        },
        {
          "output_type": "stream",
          "name": "stdout",
          "text": [
            "Epoch [14/40], Validation Loss: 2.5017\n",
            "=> Saving checkpoint\n"
          ]
        },
        {
          "output_type": "stream",
          "name": "stderr",
          "text": [
            "                                                   "
          ]
        },
        {
          "output_type": "stream",
          "name": "stdout",
          "text": [
            "Epoch [15/40], Training Loss: 2.3864\n"
          ]
        },
        {
          "output_type": "stream",
          "name": "stderr",
          "text": [
            "\r"
          ]
        },
        {
          "output_type": "stream",
          "name": "stdout",
          "text": [
            "Epoch [15/40], Validation Loss: 2.4943\n",
            "=> Saving checkpoint\n"
          ]
        },
        {
          "output_type": "stream",
          "name": "stderr",
          "text": [
            "                                                   "
          ]
        },
        {
          "output_type": "stream",
          "name": "stdout",
          "text": [
            "Epoch [16/40], Training Loss: 2.3627\n"
          ]
        },
        {
          "output_type": "stream",
          "name": "stderr",
          "text": [
            "\r"
          ]
        },
        {
          "output_type": "stream",
          "name": "stdout",
          "text": [
            "Epoch [16/40], Validation Loss: 2.4819\n",
            "=> Saving checkpoint\n"
          ]
        },
        {
          "output_type": "stream",
          "name": "stderr",
          "text": [
            "                                                   "
          ]
        },
        {
          "output_type": "stream",
          "name": "stdout",
          "text": [
            "Epoch [17/40], Training Loss: 2.3434\n"
          ]
        },
        {
          "output_type": "stream",
          "name": "stderr",
          "text": [
            "\r"
          ]
        },
        {
          "output_type": "stream",
          "name": "stdout",
          "text": [
            "Epoch [17/40], Validation Loss: 2.4759\n",
            "=> Saving checkpoint\n"
          ]
        },
        {
          "output_type": "stream",
          "name": "stderr",
          "text": [
            "                                                   "
          ]
        },
        {
          "output_type": "stream",
          "name": "stdout",
          "text": [
            "Epoch [18/40], Training Loss: 2.3247\n"
          ]
        },
        {
          "output_type": "stream",
          "name": "stderr",
          "text": [
            "\r"
          ]
        },
        {
          "output_type": "stream",
          "name": "stdout",
          "text": [
            "Epoch [18/40], Validation Loss: 2.4635\n",
            "=> Saving checkpoint\n"
          ]
        },
        {
          "output_type": "stream",
          "name": "stderr",
          "text": [
            "                                                   "
          ]
        },
        {
          "output_type": "stream",
          "name": "stdout",
          "text": [
            "Epoch [19/40], Training Loss: 2.3061\n"
          ]
        },
        {
          "output_type": "stream",
          "name": "stderr",
          "text": [
            "\r"
          ]
        },
        {
          "output_type": "stream",
          "name": "stdout",
          "text": [
            "Epoch [19/40], Validation Loss: 2.4580\n",
            "=> Saving checkpoint\n"
          ]
        },
        {
          "output_type": "stream",
          "name": "stderr",
          "text": [
            "                                                   "
          ]
        },
        {
          "output_type": "stream",
          "name": "stdout",
          "text": [
            "Epoch [20/40], Training Loss: 2.2888\n"
          ]
        },
        {
          "output_type": "stream",
          "name": "stderr",
          "text": [
            "\r"
          ]
        },
        {
          "output_type": "stream",
          "name": "stdout",
          "text": [
            "Epoch [20/40], Validation Loss: 2.4486\n",
            "=> Saving checkpoint\n"
          ]
        },
        {
          "output_type": "stream",
          "name": "stderr",
          "text": [
            "                                                   "
          ]
        },
        {
          "output_type": "stream",
          "name": "stdout",
          "text": [
            "Epoch [21/40], Training Loss: 2.2725\n"
          ]
        },
        {
          "output_type": "stream",
          "name": "stderr",
          "text": [
            "\r"
          ]
        },
        {
          "output_type": "stream",
          "name": "stdout",
          "text": [
            "Epoch [21/40], Validation Loss: 2.4454\n",
            "=> Saving checkpoint\n"
          ]
        },
        {
          "output_type": "stream",
          "name": "stderr",
          "text": [
            "                                                   "
          ]
        },
        {
          "output_type": "stream",
          "name": "stdout",
          "text": [
            "Epoch [22/40], Training Loss: 2.2568\n"
          ]
        },
        {
          "output_type": "stream",
          "name": "stderr",
          "text": [
            "\r"
          ]
        },
        {
          "output_type": "stream",
          "name": "stdout",
          "text": [
            "Epoch [22/40], Validation Loss: 2.4407\n",
            "=> Saving checkpoint\n"
          ]
        },
        {
          "output_type": "stream",
          "name": "stderr",
          "text": [
            "                                                   "
          ]
        },
        {
          "output_type": "stream",
          "name": "stdout",
          "text": [
            "Epoch [23/40], Training Loss: 2.2421\n"
          ]
        },
        {
          "output_type": "stream",
          "name": "stderr",
          "text": [
            "\r"
          ]
        },
        {
          "output_type": "stream",
          "name": "stdout",
          "text": [
            "Epoch [23/40], Validation Loss: 2.4353\n",
            "=> Saving checkpoint\n"
          ]
        },
        {
          "output_type": "stream",
          "name": "stderr",
          "text": [
            "                                                   "
          ]
        },
        {
          "output_type": "stream",
          "name": "stdout",
          "text": [
            "Epoch [24/40], Training Loss: 2.2287\n"
          ]
        },
        {
          "output_type": "stream",
          "name": "stderr",
          "text": [
            "\r"
          ]
        },
        {
          "output_type": "stream",
          "name": "stdout",
          "text": [
            "Epoch [24/40], Validation Loss: 2.4316\n",
            "=> Saving checkpoint\n"
          ]
        },
        {
          "output_type": "stream",
          "name": "stderr",
          "text": [
            "                                                   "
          ]
        },
        {
          "output_type": "stream",
          "name": "stdout",
          "text": [
            "Epoch [25/40], Training Loss: 2.2145\n"
          ]
        },
        {
          "output_type": "stream",
          "name": "stderr",
          "text": [
            "\r"
          ]
        },
        {
          "output_type": "stream",
          "name": "stdout",
          "text": [
            "Epoch [25/40], Validation Loss: 2.4281\n",
            "=> Saving checkpoint\n"
          ]
        },
        {
          "output_type": "stream",
          "name": "stderr",
          "text": []
        },
        {
          "output_type": "stream",
          "name": "stdout",
          "text": [
            "Epoch [26/40], Training Loss: 2.2026\n",
            "Epoch [26/40], Validation Loss: 2.4204\n",
            "=> Saving checkpoint\n"
          ]
        },
        {
          "output_type": "stream",
          "name": "stderr",
          "text": [
            "                                                   "
          ]
        },
        {
          "output_type": "stream",
          "name": "stdout",
          "text": [
            "Epoch [27/40], Training Loss: 2.1897\n"
          ]
        },
        {
          "output_type": "stream",
          "name": "stderr",
          "text": [
            "\r"
          ]
        },
        {
          "output_type": "stream",
          "name": "stdout",
          "text": [
            "Epoch [27/40], Validation Loss: 2.4194\n",
            "=> Saving checkpoint\n"
          ]
        },
        {
          "output_type": "stream",
          "name": "stderr",
          "text": [
            "                                                   "
          ]
        },
        {
          "output_type": "stream",
          "name": "stdout",
          "text": [
            "Epoch [28/40], Training Loss: 2.1783\n"
          ]
        },
        {
          "output_type": "stream",
          "name": "stderr",
          "text": [
            "\r"
          ]
        },
        {
          "output_type": "stream",
          "name": "stdout",
          "text": [
            "Epoch [28/40], Validation Loss: 2.4195\n",
            "=> Saving checkpoint\n"
          ]
        },
        {
          "output_type": "stream",
          "name": "stderr",
          "text": []
        },
        {
          "output_type": "stream",
          "name": "stdout",
          "text": [
            "Epoch [29/40], Training Loss: 2.1659\n",
            "Epoch [29/40], Validation Loss: 2.4161\n",
            "=> Saving checkpoint\n"
          ]
        },
        {
          "output_type": "stream",
          "name": "stderr",
          "text": [
            "                                                   "
          ]
        },
        {
          "output_type": "stream",
          "name": "stdout",
          "text": [
            "Epoch [30/40], Training Loss: 2.1550\n"
          ]
        },
        {
          "output_type": "stream",
          "name": "stderr",
          "text": [
            "\r"
          ]
        },
        {
          "output_type": "stream",
          "name": "stdout",
          "text": [
            "Epoch [30/40], Validation Loss: 2.4139\n",
            "=> Saving checkpoint\n"
          ]
        },
        {
          "output_type": "stream",
          "name": "stderr",
          "text": [
            "                                                   "
          ]
        },
        {
          "output_type": "stream",
          "name": "stdout",
          "text": [
            "Epoch [31/40], Training Loss: 2.1445\n"
          ]
        },
        {
          "output_type": "stream",
          "name": "stderr",
          "text": [
            "\r"
          ]
        },
        {
          "output_type": "stream",
          "name": "stdout",
          "text": [
            "Epoch [31/40], Validation Loss: 2.4126\n",
            "=> Saving checkpoint\n"
          ]
        },
        {
          "output_type": "stream",
          "name": "stderr",
          "text": [
            "                                                   "
          ]
        },
        {
          "output_type": "stream",
          "name": "stdout",
          "text": [
            "Epoch [32/40], Training Loss: 2.1352\n"
          ]
        },
        {
          "output_type": "stream",
          "name": "stderr",
          "text": [
            "\r"
          ]
        },
        {
          "output_type": "stream",
          "name": "stdout",
          "text": [
            "Epoch [32/40], Validation Loss: 2.4102\n",
            "=> Saving checkpoint\n"
          ]
        },
        {
          "output_type": "stream",
          "name": "stderr",
          "text": [
            "                                                   "
          ]
        },
        {
          "output_type": "stream",
          "name": "stdout",
          "text": [
            "Epoch [33/40], Training Loss: 2.1243\n"
          ]
        },
        {
          "output_type": "stream",
          "name": "stderr",
          "text": [
            "\r"
          ]
        },
        {
          "output_type": "stream",
          "name": "stdout",
          "text": [
            "Epoch [33/40], Validation Loss: 2.4047\n",
            "=> Saving checkpoint\n"
          ]
        },
        {
          "output_type": "stream",
          "name": "stderr",
          "text": [
            "                                                   "
          ]
        },
        {
          "output_type": "stream",
          "name": "stdout",
          "text": [
            "Epoch [34/40], Training Loss: 2.1136\n"
          ]
        },
        {
          "output_type": "stream",
          "name": "stderr",
          "text": [
            "\r"
          ]
        },
        {
          "output_type": "stream",
          "name": "stdout",
          "text": [
            "Epoch [34/40], Validation Loss: 2.4087\n",
            "=> Saving checkpoint\n"
          ]
        },
        {
          "output_type": "stream",
          "name": "stderr",
          "text": [
            "                                                   "
          ]
        },
        {
          "output_type": "stream",
          "name": "stdout",
          "text": [
            "Epoch [35/40], Training Loss: 2.1056\n"
          ]
        },
        {
          "output_type": "stream",
          "name": "stderr",
          "text": [
            "\r"
          ]
        },
        {
          "output_type": "stream",
          "name": "stdout",
          "text": [
            "Epoch [35/40], Validation Loss: 2.4057\n",
            "=> Saving checkpoint\n"
          ]
        },
        {
          "output_type": "stream",
          "name": "stderr",
          "text": [
            "                                                   "
          ]
        },
        {
          "output_type": "stream",
          "name": "stdout",
          "text": [
            "Epoch [36/40], Training Loss: 2.0957\n"
          ]
        },
        {
          "output_type": "stream",
          "name": "stderr",
          "text": [
            "\r"
          ]
        },
        {
          "output_type": "stream",
          "name": "stdout",
          "text": [
            "Epoch [36/40], Validation Loss: 2.4045\n",
            "=> Saving checkpoint\n"
          ]
        },
        {
          "output_type": "stream",
          "name": "stderr",
          "text": [
            "                                                   "
          ]
        },
        {
          "output_type": "stream",
          "name": "stdout",
          "text": [
            "Epoch [37/40], Training Loss: 2.0871\n"
          ]
        },
        {
          "output_type": "stream",
          "name": "stderr",
          "text": [
            "\r"
          ]
        },
        {
          "output_type": "stream",
          "name": "stdout",
          "text": [
            "Epoch [37/40], Validation Loss: 2.4034\n",
            "=> Saving checkpoint\n"
          ]
        },
        {
          "output_type": "stream",
          "name": "stderr",
          "text": [
            "                                                   "
          ]
        },
        {
          "output_type": "stream",
          "name": "stdout",
          "text": [
            "Epoch [38/40], Training Loss: 2.0800\n"
          ]
        },
        {
          "output_type": "stream",
          "name": "stderr",
          "text": [
            "\r"
          ]
        },
        {
          "output_type": "stream",
          "name": "stdout",
          "text": [
            "Epoch [38/40], Validation Loss: 2.4045\n",
            "=> Saving checkpoint\n"
          ]
        },
        {
          "output_type": "stream",
          "name": "stderr",
          "text": [
            "                                                   "
          ]
        },
        {
          "output_type": "stream",
          "name": "stdout",
          "text": [
            "Epoch [39/40], Training Loss: 2.0703\n"
          ]
        },
        {
          "output_type": "stream",
          "name": "stderr",
          "text": [
            "\r"
          ]
        },
        {
          "output_type": "stream",
          "name": "stdout",
          "text": [
            "Epoch [39/40], Validation Loss: 2.4061\n",
            "=> Saving checkpoint\n"
          ]
        },
        {
          "output_type": "stream",
          "name": "stderr",
          "text": []
        },
        {
          "output_type": "stream",
          "name": "stdout",
          "text": [
            "Epoch [40/40], Training Loss: 2.0622\n",
            "Epoch [40/40], Validation Loss: 2.4020\n"
          ]
        },
        {
          "output_type": "display_data",
          "data": {
            "text/plain": [
              "<Figure size 640x480 with 1 Axes>"
            ],
            "image/png": "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\n"
          },
          "metadata": {}
        }
      ]
    },
    {
      "cell_type": "code",
      "source": [
        "import torch\n",
        "import torch.nn as nn\n",
        "import torchvision.models as model\n",
        "from tqdm import tqdm\n",
        "import torch.optim as optim\n",
        "import torchvision.transforms as transforms\n",
        "from PIL import Image  # Load img\n",
        "\n",
        "\n",
        "def print_caption(model, image ,device, dataset):\n",
        "    transform = transforms.Compose(\n",
        "        [\n",
        "            transforms.Resize((299, 299)),\n",
        "            transforms.ToTensor(),\n",
        "            transforms.Normalize((0.5, 0.5, 0.5), (0.5, 0.5, 0.5)),\n",
        "        ]\n",
        "    )\n",
        "    model.eval()\n",
        "    test_img = transform(Image.open(image).convert(\"RGB\")).unsqueeze(0)\n",
        "    #print(generate_caption(model, test_img.to(device), dataset.vocab))\n",
        "    return generate_caption(model, test_img.to(device), dataset.vocab)\n",
        "\n",
        "\n",
        "def generate_caption(model, image, vocabulary, max_length=50):\n",
        "    model.eval()\n",
        "    # Initializing an empty list\n",
        "    generated_caption = []\n",
        "\n",
        "    # Inference time so no grad is required\n",
        "    with torch.no_grad():\n",
        "\n",
        "        # Defining the initial Input and the cell state\n",
        "        x = model.encoder(image).unsqueeze(0)\n",
        "        state = None\n",
        "\n",
        "        for _ in range(max_length):\n",
        "            # finding the hidden and cell states\n",
        "            hidden, state = model.decoder.lstm(x, state)\n",
        "\n",
        "            # applying the linear layer on the hidden state to get the output distribution\n",
        "            output = model.decoder.linear(hidden.squeeze(0))\n",
        "\n",
        "            # find out the word with the highest probability\n",
        "            predicted = output.argmax(1)\n",
        "\n",
        "            # appending the index of the word in our generated_caption list\n",
        "            generated_caption.append(predicted.cpu().detach().numpy().tolist())\n",
        "\n",
        "            # setting the input for the next iteration\n",
        "            x = model.decoder.embedding(predicted).unsqueeze(0)\n",
        "\n",
        "            # if our model predicts End of Sequence then we just stop\n",
        "            if vocabulary.itos[predicted.item()] == \"<EOS>\":\n",
        "                break\n",
        "\n",
        "    # return generated_caption\n",
        "    # we convert the indices to the words\n",
        "    caption = []\n",
        "    for i in range(len(generated_caption)):\n",
        "        idx = int(generated_caption[i][0])\n",
        "        caption.append(vocabulary.itos[idx])\n",
        "    return caption"
      ],
      "metadata": {
        "id": "w76IXKpaO3U-"
      },
      "execution_count": null,
      "outputs": []
    },
    {
      "cell_type": "code",
      "source": [
        "#Sentence_BLEU (Optional to be run)\n",
        "import IPython.display as display\n",
        "from nltk.translate.bleu_score import sentence_bleu\n",
        "train_dataloader = torch.load(\"saved_train_dataloader.pt\")\n",
        "test_dataloader = torch.load(\"saved_test_dataloader.pt\")\n",
        "train_dataset = torch.load(\"saved_train_dataset.pt\")\n",
        "test_dataset = torch.load(\"saved_test_dataset.pt\")\n",
        "\n",
        "# Hyper-Parameters\n",
        "embed_size = 256\n",
        "hidden_size = 256\n",
        "vocab_size = len(train_dataset.vocab)\n",
        "num_layers = 1\n",
        "learning_rate = 3e-4\n",
        "if torch.cuda.is_available():\n",
        "    device = \"cuda\"\n",
        "else:\n",
        "    device = \"cpu\"\n",
        "\n",
        "# initialize model, loss etc\n",
        "model = ImageToCaption(embed_size, hidden_size, vocab_size, num_layers).to(device)\n",
        "criterion = nn.CrossEntropyLoss(ignore_index=test_dataset.vocab.stoi[\"<PAD>\"])\n",
        "optimizer = optim.Adam(model.parameters(), lr=learning_rate)\n",
        "\n",
        "step = load_checkpoint(torch.load(\"saved_checkpoint.pt\"), model, optimizer)\n",
        "sum_blue = 0\n",
        "for idx in range(8091):\n",
        "  reference = test_captions[idx].split()\n",
        "  candidate = print_caption(model, \"/content/Images/\"+ test_imgs[idx],device, test_dataset)\n",
        "  candidate = candidate[1:-1]\n",
        "  bleu_score = sentence_bleu([reference], candidate)\n",
        "  sum_blue += bleu_score\n",
        "  # Load and convert the image to RGB\n",
        "  image = Image.open(\"/content/Images/\"+ test_imgs[idx]).convert(\"RGB\")\n",
        "\n",
        "  # Display the image\n",
        "  display.display(image)\n",
        "\n",
        "  # Print the caption below the image\n",
        "  print()\n",
        "  print(\"Actual captions:- \")\n",
        "  print(  reference)\n",
        "  print(\"Generated Caption:-  \" )\n",
        "  print( candidate)\n",
        "  print(\"BLUE score: \" )\n",
        "  print( bleu_score)\n",
        "  print()\n",
        "\n",
        "print(\"Average BLUE score\"+ sum_blue/8091.00)"
      ],
      "metadata": {
        "id": "pYz02cfzbLeP"
      },
      "execution_count": null,
      "outputs": []
    },
    {
      "cell_type": "code",
      "source": [
        "#Corpus_BLEU\n",
        "import IPython.display as display\n",
        "from nltk.translate.bleu_score import corpus_bleu\n",
        "\n",
        "#Sentence_BLEU (Optional to be run)\n",
        "import IPython.display as display\n",
        "#from nltk.translate.bleu_score import sentence_bleu\n",
        "train_dataloader = torch.load(\"saved_train_dataloader.pt\")\n",
        "test_dataloader = torch.load(\"saved_test_dataloader.pt\")\n",
        "train_dataset = torch.load(\"saved_train_dataset.pt\")\n",
        "test_dataset = torch.load(\"saved_test_dataset.pt\")\n",
        "\n",
        "# Hyper-Parameters\n",
        "embed_size = 256\n",
        "hidden_size = 256\n",
        "vocab_size = len(train_dataset.vocab)\n",
        "num_layers = 1\n",
        "learning_rate = 3e-4\n",
        "if torch.cuda.is_available():\n",
        "    device = \"cuda\"\n",
        "else:\n",
        "    device = \"cpu\"\n",
        "\n",
        "# initialize model, loss etc\n",
        "model = ImageToCaption(embed_size, hidden_size, vocab_size, num_layers).to(device)\n",
        "criterion = nn.CrossEntropyLoss(ignore_index=test_dataset.vocab.stoi[\"<PAD>\"])\n",
        "optimizer = optim.Adam(model.parameters(), lr=learning_rate)\n",
        "\n",
        "step = load_checkpoint(torch.load(\"saved_checkpoint.pt\"), model, optimizer)\n",
        "references = []\n",
        "hypotheses = []\n",
        "for idx in range(8091):\n",
        "    reference = test_captions[idx].split()\n",
        "    candidate = print_caption(model, \"/content/Images/\" + test_imgs[idx], device, test_dataset)\n",
        "    candidate = candidate[1:-1]\n",
        "    references.append([reference])\n",
        "    hypotheses.append(candidate)\n",
        "\n",
        "    # Load and convert the image to RGB\n",
        "    image = Image.open(\"/content/Images/\" + test_imgs[idx]).convert(\"RGB\")\n",
        "\n",
        "    # Display the image\n",
        "    #display.display(image)\n",
        "\n",
        "    # Print the caption below the image\n",
        "    #print()\n",
        "    #print(\"Actual captions:\")\n",
        "    #print(reference)\n",
        "    #print(\"Generated Caption:\")\n",
        "    #print(candidate)\n",
        "    #print()\n",
        "\n",
        "# Calculate BLEU score\n",
        "bleu_score = corpus_bleu(references, hypotheses)\n",
        "\n",
        "print(\"BLEU score:\", bleu_score)"
      ],
      "metadata": {
        "id": "TnLa8YqXbStD"
      },
      "execution_count": null,
      "outputs": []
    }
  ],
  "metadata": {
    "accelerator": "GPU",
    "colab": {
      "provenance": [],
      "include_colab_link": true
    },
    "kernelspec": {
      "display_name": "Python 3",
      "name": "python3"
    },
    "language_info": {
      "name": "python"
    }
  },
  "nbformat": 4,
  "nbformat_minor": 0
}
